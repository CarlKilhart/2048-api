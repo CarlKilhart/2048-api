{
 "cells": [
  {
   "cell_type": "code",
   "execution_count": 6,
   "metadata": {},
   "outputs": [],
   "source": [
    "from agents import ReinforcedAgent\n",
    "from game import Game\n",
    "from displays import Display\n",
    "from learning import NeuralNet\n",
    "\n",
    "display1 = Display()"
   ]
  },
  {
   "cell_type": "code",
   "execution_count": 11,
   "metadata": {},
   "outputs": [
    {
     "output_type": "stream",
     "name": "stdout",
     "text": "Iter: 1\n======Direction: left======\nState:\t       2       4       0       0\n\t       0       0       0       0\n\t       0       0       0       0\n\t       2       0       0       0\nScore: 4\nIter: 2\n======Direction: left======\nState:\t       2       4       0       4\n\t       0       0       0       0\n\t       0       0       0       0\n\t       2       0       0       0\nScore: 4\nIter: 3\n======Direction: left======\nState:\t       2       8       0       0\n\t       0       0       0       2\n\t       0       0       0       0\n\t       2       0       0       0\nScore: 8\nIter: 4\n======Direction: left======\nState:\t       2       8       0       0\n\t       2       0       4       0\n\t       0       0       0       0\n\t       2       0       0       0\nScore: 8\nIter: 5\n======Direction: left======\nState:\t       2       8       0       0\n\t       2       4       0       0\n\t       0       0       0       0\n\t       2       4       0       0\nScore: 8\nIter: 6\n======Direction: left======\nState:\t       2       8       0       0\n\t       2       4       4       0\n\t       0       0       0       0\n\t       2       4       0       0\nScore: 8\nIter: 7\n======Direction: left======\nState:\t       2       8       0       0\n\t       2       8       4       0\n\t       0       0       0       0\n\t       2       4       0       0\nScore: 8\nIter: 8\n======Direction: left======\nState:\t       2       8       0       0\n\t       2       8       4       0\n\t       0       0       0       0\n\t       2       4       4       0\nScore: 8\nIter: 9\n======Direction: left======\nState:\t       2       8       4       0\n\t       2       8       4       0\n\t       0       0       0       0\n\t       2       8       0       0\nScore: 8\nIter: 10\n======Direction: left======\nState:\t       2       8       4       0\n\t       2       8       4       4\n\t       0       0       0       0\n\t       2       8       0       0\nScore: 8\nIter: 11\n======Direction: left======\nState:\t       2       8       4       0\n\t       2       8       8       4\n\t       0       0       0       0\n\t       2       8       0       0\nScore: 8\nIter: 12\n======Direction: left======\nState:\t       2       8       4       0\n\t       2      16       4       0\n\t       0       0       0       2\n\t       2       8       0       0\nScore: 16\nIter: 13\n======Direction: left======\nState:\t       2       8       4       0\n\t       2      16       4       0\n\t       2       0       0       0\n\t       2       8       2       0\nScore: 16\nIter: 14\n======Direction: left======\nState:\t       2       8       4       4\n\t       2      16       4       0\n\t       2       0       0       0\n\t       2       8       2       0\nScore: 16\nIter: 15\n======Direction: left======\nState:\t       2       8       8       0\n\t       2      16       4       0\n\t       2       2       0       0\n\t       2       8       2       0\nScore: 16\nIter: 16\n======Direction: left======\nState:\t       2      16       0       2\n\t       2      16       4       0\n\t       4       0       0       0\n\t       2       8       2       0\nScore: 16\nIter: 17\n======Direction: left======\nState:\t       2      16       2       0\n\t       2      16       4       0\n\t       4       0       0       0\n\t       2       8       2       2\nScore: 16\nIter: 18\n======Direction: left======\nState:\t       2      16       2       0\n\t       2      16       4       0\n\t       4       4       0       0\n\t       2       8       4       0\nScore: 16\nIter: 19\n======Direction: left======\nState:\t       2      16       2       0\n\t       2      16       4       0\n\t       8       0       0       0\n\t       2       8       4       2\nScore: 16\nIter: 20\n======Direction: left======\nState:\t       2      16       2       0\n\t       2      16       4       0\n\t       8       2       0       0\n\t       2       8       4       2\nScore: 16\nIter: 21\n======Direction: left======\nState:\t       2      16       2       0\n\t       2      16       4       0\n\t       8       2       2       0\n\t       2       8       4       2\nScore: 16\nIter: 22\n======Direction: left======\nState:\t       2      16       2       0\n\t       2      16       4       0\n\t       8       4       2       0\n\t       2       8       4       2\nScore: 16\nIter: 23\n======Direction: left======\nState:\t       2      16       2       0\n\t       2      16       4       0\n\t       8       4       2       2\n\t       2       8       4       2\nScore: 16\nIter: 24\n======Direction: left======\nState:\t       2      16       2       0\n\t       2      16       4       4\n\t       8       4       4       0\n\t       2       8       4       2\nScore: 16\nIter: 25\n======Direction: left======\nState:\t       2      16       2       0\n\t       2      16       8       0\n\t       8       8       4       0\n\t       2       8       4       2\nScore: 16\nIter: 26\n======Direction: left======\nState:\t       2      16       2       0\n\t       2      16       8       4\n\t      16       4       0       0\n\t       2       8       4       2\nScore: 16\nIter: 27\n======Direction: left======\nState:\t       2      16       2       0\n\t       2      16       8       4\n\t      16       4       4       0\n\t       2       8       4       2\nScore: 16\nIter: 28\n======Direction: left======\nState:\t       2      16       2       2\n\t       2      16       8       4\n\t      16       8       0       0\n\t       2       8       4       2\nScore: 16\nIter: 29\n======Direction: left======\nState:\t       2      16       4       0\n\t       2      16       8       4\n\t      16       8       0       2\n\t       2       8       4       2\nScore: 16\nIter: 30\n======Direction: left======\nState:\t       2      16       4       4\n\t       2      16       8       4\n\t      16       8       2       0\n\t       2       8       4       2\nScore: 16\nIter: 31\n======Direction: left======\nState:\t       2      16       8       2\n\t       2      16       8       4\n\t      16       8       2       0\n\t       2       8       4       2\nScore: 16\nIter: 32\n======Direction: left======\nState:\t       2      16       8       2\n\t       2      16       8       4\n\t      16       8       2       4\n\t       2       8       4       2\nScore: 16\nIter: 33\n======Direction: left======\nState:\t       2      16       8       2\n\t       2      16       8       4\n\t      16       8       2       4\n\t       2       8       4       2\nScore: 16\nYou lose! Score: 16\n"
    }
   ],
   "source": [
    "game = Game(4, random=False)\n",
    "agent = ReinforcedAgent(game, display=display1, loadpath=\".\")\n",
    "agent.play(verbose=True)"
   ]
  },
  {
   "cell_type": "code",
   "execution_count": null,
   "metadata": {},
   "outputs": [],
   "source": []
  }
 ],
 "metadata": {
  "language_info": {
   "codemirror_mode": {
    "name": "ipython",
    "version": 3
   },
   "file_extension": ".py",
   "mimetype": "text/x-python",
   "name": "python",
   "nbconvert_exporter": "python",
   "pygments_lexer": "ipython3",
   "version": "3.7.0-final"
  },
  "orig_nbformat": 2,
  "kernelspec": {
   "name": "python37064bitmlcondade25dc067b784cd2858f6d5c7e8f3aca",
   "display_name": "Python 3.7.0 64-bit ('ml': conda)"
  }
 },
 "nbformat": 4,
 "nbformat_minor": 2
}