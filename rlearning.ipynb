{
 "cells": [
  {
   "cell_type": "code",
   "execution_count": 5,
   "metadata": {},
   "outputs": [],
   "source": [
    "import numpy as np\n",
    "import torch\n",
    "from torch import nn\n",
    "import os\n",
    "from game2048.game import Game\n",
    "from game2048.displays import Display, IPythonDisplay\n",
    "from game2048.agents import Agent, ExpectiMaxAgent"
   ]
  },
  {
   "cell_type": "code",
   "execution_count": 6,
   "metadata": {},
   "outputs": [],
   "source": [
    "class NeuralNet(nn.Module):\n",
    "\n",
    "    def __init__(self,n_states, n_actions):\n",
    "        super(NeuralNet, self).__init__()\n",
    "        self.layer1 = nn.Sequential(\n",
    "            nn.Linear(n_states, 10),\n",
    "            nn.ReLU(True)\n",
    "        )\n",
    "        self.layer2 = nn.Linear(10, n_actions)\n",
    "\n",
    "    def forward(self, x):\n",
    "        x = self.layer1(x)\n",
    "        x = self.layer2(x)\n",
    "        return x\n",
    "\n",
    "class DQN(object):\n",
    "\n",
    "    def __init__(self, n_lattice=16, n_actions=4, loadpath=None, epsilon=0.9, lr=0.01, decay=0.9, batch_size=32, capacity=2000, freq=100):\n",
    "        self.n_lattice = n_lattice\n",
    "        self.n_actions = n_actions\n",
    "        self.epsilon = epsilon\n",
    "        self.lr = lr\n",
    "        self.decay = decay\n",
    "        self.batch_size = batch_size\n",
    "        self.capacity = capacity\n",
    "        self.freq = freq\n",
    "        self.prediction_net = NeuralNet(n_lattice, n_actions)\n",
    "        self.target_net = NeuralNet(n_lattice, n_actions)\n",
    "\n",
    "        if loadpath is not None:\n",
    "            net = torch.load(loadpath+'/prediction.pth')\n",
    "            self.prediction_net.load_state_dict(net.state_dict())\n",
    "            net = torch.load(loadpath+'/prediction.pth')\n",
    "            self.target_net.load_state_dict(net.state_dict())\n",
    "\n",
    "        self.stepcnt = 0\n",
    "        self.memorycnt = 0\n",
    "        self.states = np.zeros((capacity, 16))\n",
    "        self.actions = np.zeros((capacity, 1))\n",
    "        self.rewards = np.zeros((capacity, 1))\n",
    "        self.stateps = np.zeros((capacity, 16))\n",
    "        self.optimizer = torch.optim.SGD(self.prediction_net.parameters(), lr=self.lr)\n",
    "        self.Lossfunc = torch.nn.CrossEntropyLoss\n",
    "\n",
    "    def decision(self, state):\n",
    "        actions = consultant.step()\n",
    "        return action\n",
    "    \n",
    "    '''def store(self, state, action, reward, statep):\n",
    "        if self.memorycnt <= self.capacity:\n",
    "            self.memory.append([state, action, reward, statep])\n",
    "            \n",
    "        else:\n",
    "            index = self.memorycnt % self.capacity\n",
    "            self.memory[index] = [state, action, reward, statep]\n",
    "        self.memorycnt += 1'''\n",
    "        \n",
    "    \n",
    "    def save(self, savepath='.'):\n",
    "        torch.save(self.prediction_net, savepath+'/prediction.pth')\n",
    "        #torch.save(self.target_net, savepath+'/target.pth')\n",
    "\n",
    "    def learn(self):\n",
    "        if self.stepcnt == self.freq:\n",
    "            self.stepcnt = 0\n",
    "            self.target_net.load_state_dict(self.prediction_net.state_dict())\n",
    "        self.stepcnt += 1\n",
    "\n",
    "        n_memory = self.memorycnt if self.memorycnt < self.capacity else self.capacity\n",
    "        index = np.random.choice(n_memory, self.batch_size)\n",
    "        \n",
    "        sts = torch.Tensor(self.states[index, :])\n",
    "        ats = torch.Tensor(self.actions[index]).type(torch.long)\n",
    "        res = torch.Tensor(self.rewards[index])\n",
    "        sps = torch.Tensor(self.stateps[index, :])\n",
    "\n",
    "        Q_pred = self.prediction_net(sts).gather(1,ats)\n",
    "        Q_next = self.target_net(sps).detach()\n",
    "        Q_target = res + self.lr * Q_next.max(1)[0].reshape((-1,1))\n",
    "        loss = torch.sum((Q_pred - Q_target) * (Q_pred - Q_target))\n",
    "\n",
    "        self.optimizer.zero_grad()\n",
    "        loss.backward()\n",
    "        self.optimizer.step()"
   ]
  },
  {
   "cell_type": "code",
   "execution_count": 8,
   "metadata": {},
   "outputs": [],
   "source": [
    "display1 = Display()\n",
    "display2 = IPythonDisplay()"
   ]
  },
  {
   "cell_type": "code",
   "execution_count": 12,
   "metadata": {},
   "outputs": [
    {
     "output_type": "display_data",
     "data": {
      "text/plain": "<IPython.core.display.HTML object>",
      "text/html": "<h1>Score: 2</h1><table style=\"border: 5px solid black;\"><tr><td style=\"border:3px solid black; text-align:center;\"\n         width=\"40\" height=\"40\"></td><td style=\"border:3px solid black; text-align:center;\"\n         width=\"40\" height=\"40\"></td><td style=\"border:3px solid black; text-align:center;\"\n         width=\"40\" height=\"40\"></td><td style=\"border:3px solid black; text-align:center;\"\n         width=\"40\" height=\"40\"></td></tr><tr><td style=\"border:3px solid black; text-align:center;\"\n         width=\"40\" height=\"40\"></td><td style=\"border:3px solid black; text-align:center;\"\n         width=\"40\" height=\"40\">2</td><td style=\"border:3px solid black; text-align:center;\"\n         width=\"40\" height=\"40\"></td><td style=\"border:3px solid black; text-align:center;\"\n         width=\"40\" height=\"40\"></td></tr><tr><td style=\"border:3px solid black; text-align:center;\"\n         width=\"40\" height=\"40\"></td><td style=\"border:3px solid black; text-align:center;\"\n         width=\"40\" height=\"40\">2</td><td style=\"border:3px solid black; text-align:center;\"\n         width=\"40\" height=\"40\"></td><td style=\"border:3px solid black; text-align:center;\"\n         width=\"40\" height=\"40\"></td></tr><tr><td style=\"border:3px solid black; text-align:center;\"\n         width=\"40\" height=\"40\"></td><td style=\"border:3px solid black; text-align:center;\"\n         width=\"40\" height=\"40\"></td><td style=\"border:3px solid black; text-align:center;\"\n         width=\"40\" height=\"40\"></td><td style=\"border:3px solid black; text-align:center;\"\n         width=\"40\" height=\"40\"></td></tr></table>"
     },
     "metadata": {}
    },
    {
     "output_type": "display_data",
     "data": {
      "text/plain": "<IPython.core.display.HTML object>",
      "text/html": "<h1>Score: 4</h1><table style=\"border: 5px solid black;\"><tr><td style=\"border:3px solid black; text-align:center;\"\n         width=\"40\" height=\"40\"></td><td style=\"border:3px solid black; text-align:center;\"\n         width=\"40\" height=\"40\"></td><td style=\"border:3px solid black; text-align:center;\"\n         width=\"40\" height=\"40\"></td><td style=\"border:3px solid black; text-align:center;\"\n         width=\"40\" height=\"40\"></td></tr><tr><td style=\"border:3px solid black; text-align:center;\"\n         width=\"40\" height=\"40\"></td><td style=\"border:3px solid black; text-align:center;\"\n         width=\"40\" height=\"40\"></td><td style=\"border:3px solid black; text-align:center;\"\n         width=\"40\" height=\"40\">4</td><td style=\"border:3px solid black; text-align:center;\"\n         width=\"40\" height=\"40\"></td></tr><tr><td style=\"border:3px solid black; text-align:center;\"\n         width=\"40\" height=\"40\"></td><td style=\"border:3px solid black; text-align:center;\"\n         width=\"40\" height=\"40\"></td><td style=\"border:3px solid black; text-align:center;\"\n         width=\"40\" height=\"40\"></td><td style=\"border:3px solid black; text-align:center;\"\n         width=\"40\" height=\"40\">2</td></tr><tr><td style=\"border:3px solid black; text-align:center;\"\n         width=\"40\" height=\"40\"></td><td style=\"border:3px solid black; text-align:center;\"\n         width=\"40\" height=\"40\"></td><td style=\"border:3px solid black; text-align:center;\"\n         width=\"40\" height=\"40\"></td><td style=\"border:3px solid black; text-align:center;\"\n         width=\"40\" height=\"40\"></td></tr></table>"
     },
     "metadata": {}
    },
    {
     "output_type": "display_data",
     "data": {
      "text/plain": "<IPython.core.display.HTML object>",
      "text/html": "<h1>Score: 4</h1><table style=\"border: 5px solid black;\"><tr><td style=\"border:3px solid black; text-align:center;\"\n         width=\"40\" height=\"40\"></td><td style=\"border:3px solid black; text-align:center;\"\n         width=\"40\" height=\"40\"></td><td style=\"border:3px solid black; text-align:center;\"\n         width=\"40\" height=\"40\"></td><td style=\"border:3px solid black; text-align:center;\"\n         width=\"40\" height=\"40\"></td></tr><tr><td style=\"border:3px solid black; text-align:center;\"\n         width=\"40\" height=\"40\">2</td><td style=\"border:3px solid black; text-align:center;\"\n         width=\"40\" height=\"40\"></td><td style=\"border:3px solid black; text-align:center;\"\n         width=\"40\" height=\"40\"></td><td style=\"border:3px solid black; text-align:center;\"\n         width=\"40\" height=\"40\">4</td></tr><tr><td style=\"border:3px solid black; text-align:center;\"\n         width=\"40\" height=\"40\"></td><td style=\"border:3px solid black; text-align:center;\"\n         width=\"40\" height=\"40\"></td><td style=\"border:3px solid black; text-align:center;\"\n         width=\"40\" height=\"40\"></td><td style=\"border:3px solid black; text-align:center;\"\n         width=\"40\" height=\"40\"></td></tr><tr><td style=\"border:3px solid black; text-align:center;\"\n         width=\"40\" height=\"40\"></td><td style=\"border:3px solid black; text-align:center;\"\n         width=\"40\" height=\"40\"></td><td style=\"border:3px solid black; text-align:center;\"\n         width=\"40\" height=\"40\"></td><td style=\"border:3px solid black; text-align:center;\"\n         width=\"40\" height=\"40\"></td></tr></table>"
     },
     "metadata": {}
    },
    {
     "output_type": "display_data",
     "data": {
      "text/plain": "<IPython.core.display.HTML object>",
      "text/html": "<h1>Score: 4</h1><table style=\"border: 5px solid black;\"><tr><td style=\"border:3px solid black; text-align:center;\"\n         width=\"40\" height=\"40\"></td><td style=\"border:3px solid black; text-align:center;\"\n         width=\"40\" height=\"40\">2</td><td style=\"border:3px solid black; text-align:center;\"\n         width=\"40\" height=\"40\"></td><td style=\"border:3px solid black; text-align:center;\"\n         width=\"40\" height=\"40\"></td></tr><tr><td style=\"border:3px solid black; text-align:center;\"\n         width=\"40\" height=\"40\"></td><td style=\"border:3px solid black; text-align:center;\"\n         width=\"40\" height=\"40\"></td><td style=\"border:3px solid black; text-align:center;\"\n         width=\"40\" height=\"40\"></td><td style=\"border:3px solid black; text-align:center;\"\n         width=\"40\" height=\"40\"></td></tr><tr><td style=\"border:3px solid black; text-align:center;\"\n         width=\"40\" height=\"40\"></td><td style=\"border:3px solid black; text-align:center;\"\n         width=\"40\" height=\"40\"></td><td style=\"border:3px solid black; text-align:center;\"\n         width=\"40\" height=\"40\"></td><td style=\"border:3px solid black; text-align:center;\"\n         width=\"40\" height=\"40\"></td></tr><tr><td style=\"border:3px solid black; text-align:center;\"\n         width=\"40\" height=\"40\"></td><td style=\"border:3px solid black; text-align:center;\"\n         width=\"40\" height=\"40\">4</td><td style=\"border:3px solid black; text-align:center;\"\n         width=\"40\" height=\"40\"></td><td style=\"border:3px solid black; text-align:center;\"\n         width=\"40\" height=\"40\"></td></tr></table>"
     },
     "metadata": {}
    },
    {
     "output_type": "display_data",
     "data": {
      "text/plain": "<IPython.core.display.HTML object>",
      "text/html": "<h1>Score: 4</h1><table style=\"border: 5px solid black;\"><tr><td style=\"border:3px solid black; text-align:center;\"\n         width=\"40\" height=\"40\"></td><td style=\"border:3px solid black; text-align:center;\"\n         width=\"40\" height=\"40\"></td><td style=\"border:3px solid black; text-align:center;\"\n         width=\"40\" height=\"40\">2</td><td style=\"border:3px solid black; text-align:center;\"\n         width=\"40\" height=\"40\"></td></tr><tr><td style=\"border:3px solid black; text-align:center;\"\n         width=\"40\" height=\"40\"></td><td style=\"border:3px solid black; text-align:center;\"\n         width=\"40\" height=\"40\"></td><td style=\"border:3px solid black; text-align:center;\"\n         width=\"40\" height=\"40\">4</td><td style=\"border:3px solid black; text-align:center;\"\n         width=\"40\" height=\"40\"></td></tr><tr><td style=\"border:3px solid black; text-align:center;\"\n         width=\"40\" height=\"40\"></td><td style=\"border:3px solid black; text-align:center;\"\n         width=\"40\" height=\"40\"></td><td style=\"border:3px solid black; text-align:center;\"\n         width=\"40\" height=\"40\"></td><td style=\"border:3px solid black; text-align:center;\"\n         width=\"40\" height=\"40\"></td></tr><tr><td style=\"border:3px solid black; text-align:center;\"\n         width=\"40\" height=\"40\"></td><td style=\"border:3px solid black; text-align:center;\"\n         width=\"40\" height=\"40\"></td><td style=\"border:3px solid black; text-align:center;\"\n         width=\"40\" height=\"40\"></td><td style=\"border:3px solid black; text-align:center;\"\n         width=\"40\" height=\"40\"></td></tr></table>"
     },
     "metadata": {}
    },
    {
     "output_type": "error",
     "ename": "KeyboardInterrupt",
     "evalue": "",
     "traceback": [
      "\u001b[0;31m---------------------------------------------------------------------------\u001b[0m",
      "\u001b[0;31mKeyboardInterrupt\u001b[0m                         Traceback (most recent call last)",
      "\u001b[0;32m<ipython-input-12-9bca50a75ad3>\u001b[0m in \u001b[0;36m<module>\u001b[0;34m\u001b[0m\n\u001b[1;32m      9\u001b[0m         \u001b[0ms\u001b[0m \u001b[0;34m=\u001b[0m \u001b[0ms\u001b[0m\u001b[0;34m.\u001b[0m\u001b[0mreshape\u001b[0m\u001b[0;34m(\u001b[0m\u001b[0;34m(\u001b[0m\u001b[0;36m1\u001b[0m\u001b[0;34m,\u001b[0m\u001b[0;34m-\u001b[0m\u001b[0;36m1\u001b[0m\u001b[0;34m)\u001b[0m\u001b[0;34m)\u001b[0m\u001b[0;34m\u001b[0m\u001b[0m\n\u001b[1;32m     10\u001b[0m         \u001b[0mr1\u001b[0m \u001b[0;34m=\u001b[0m \u001b[0mconsultant\u001b[0m\u001b[0;34m.\u001b[0m\u001b[0mgame\u001b[0m\u001b[0;34m.\u001b[0m\u001b[0mscore\u001b[0m\u001b[0;34m\u001b[0m\u001b[0m\n\u001b[0;32m---> 11\u001b[0;31m         \u001b[0ma\u001b[0m \u001b[0;34m=\u001b[0m \u001b[0mconsultant\u001b[0m\u001b[0;34m.\u001b[0m\u001b[0mstep\u001b[0m\u001b[0;34m(\u001b[0m\u001b[0;34m)\u001b[0m\u001b[0;34m\u001b[0m\u001b[0m\n\u001b[0m\u001b[1;32m     12\u001b[0m         \u001b[0mconsultant\u001b[0m\u001b[0;34m.\u001b[0m\u001b[0mgame\u001b[0m\u001b[0;34m.\u001b[0m\u001b[0mmove\u001b[0m\u001b[0;34m(\u001b[0m\u001b[0ma\u001b[0m\u001b[0;34m)\u001b[0m\u001b[0;34m\u001b[0m\u001b[0m\n\u001b[1;32m     13\u001b[0m         \u001b[0ms_\u001b[0m \u001b[0;34m=\u001b[0m \u001b[0mnp\u001b[0m\u001b[0;34m.\u001b[0m\u001b[0marray\u001b[0m\u001b[0;34m(\u001b[0m\u001b[0mconsultant\u001b[0m\u001b[0;34m.\u001b[0m\u001b[0mgame\u001b[0m\u001b[0;34m.\u001b[0m\u001b[0mboard\u001b[0m\u001b[0;34m)\u001b[0m\u001b[0;34m.\u001b[0m\u001b[0mreshape\u001b[0m\u001b[0;34m(\u001b[0m\u001b[0;34m(\u001b[0m\u001b[0;36m1\u001b[0m\u001b[0;34m,\u001b[0m\u001b[0;34m-\u001b[0m\u001b[0;36m1\u001b[0m\u001b[0;34m)\u001b[0m\u001b[0;34m)\u001b[0m\u001b[0;34m\u001b[0m\u001b[0m\n",
      "\u001b[0;32m~/2048-api/game2048/agents.py\u001b[0m in \u001b[0;36mstep\u001b[0;34m(self)\u001b[0m\n\u001b[1;32m     75\u001b[0m \u001b[0;34m\u001b[0m\u001b[0m\n\u001b[1;32m     76\u001b[0m     \u001b[0;32mdef\u001b[0m \u001b[0mstep\u001b[0m\u001b[0;34m(\u001b[0m\u001b[0mself\u001b[0m\u001b[0;34m)\u001b[0m\u001b[0;34m:\u001b[0m\u001b[0;34m\u001b[0m\u001b[0m\n\u001b[0;32m---> 77\u001b[0;31m         \u001b[0mdirection\u001b[0m \u001b[0;34m=\u001b[0m \u001b[0mself\u001b[0m\u001b[0;34m.\u001b[0m\u001b[0msearch_func\u001b[0m\u001b[0;34m(\u001b[0m\u001b[0mself\u001b[0m\u001b[0;34m.\u001b[0m\u001b[0mgame\u001b[0m\u001b[0;34m.\u001b[0m\u001b[0mboard\u001b[0m\u001b[0;34m)\u001b[0m\u001b[0;34m\u001b[0m\u001b[0m\n\u001b[0m\u001b[1;32m     78\u001b[0m         \u001b[0;32mreturn\u001b[0m \u001b[0mdirection\u001b[0m\u001b[0;34m\u001b[0m\u001b[0m\n",
      "\u001b[0;32m~/2048-api/game2048/expectimax/_ext.py\u001b[0m in \u001b[0;36mboard_to_move\u001b[0;34m(x)\u001b[0m\n\u001b[1;32m    108\u001b[0m     \u001b[0;32mfor\u001b[0m \u001b[0mr\u001b[0m \u001b[0;32min\u001b[0m \u001b[0marr\u001b[0m\u001b[0;34m:\u001b[0m\u001b[0;34m\u001b[0m\u001b[0m\n\u001b[1;32m    109\u001b[0m         \u001b[0mret\u001b[0m\u001b[0;34m.\u001b[0m\u001b[0mappend\u001b[0m\u001b[0;34m(\u001b[0m\u001b[0;34m[\u001b[0m\u001b[0mint\u001b[0m\u001b[0;34m(\u001b[0m\u001b[0mc\u001b[0m\u001b[0;34m)\u001b[0m \u001b[0;32mfor\u001b[0m \u001b[0mc\u001b[0m \u001b[0;32min\u001b[0m \u001b[0mr\u001b[0m\u001b[0;34m]\u001b[0m\u001b[0;34m)\u001b[0m\u001b[0;34m\u001b[0m\u001b[0m\n\u001b[0;32m--> 110\u001b[0;31m     \u001b[0mmove\u001b[0m \u001b[0;34m=\u001b[0m \u001b[0mm_to_move\u001b[0m\u001b[0;34m(\u001b[0m\u001b[0mret\u001b[0m\u001b[0;34m)\u001b[0m\u001b[0;34m\u001b[0m\u001b[0m\n\u001b[0m\u001b[1;32m    111\u001b[0m     \u001b[0;32mreturn\u001b[0m \u001b[0mmove\u001b[0m\u001b[0;34m\u001b[0m\u001b[0m\n",
      "\u001b[0;32m~/2048-api/game2048/expectimax/_ext.py\u001b[0m in \u001b[0;36mm_to_move\u001b[0;34m(m)\u001b[0m\n\u001b[1;32m     98\u001b[0m     \u001b[0mmine\u001b[0m\u001b[0;34m:\u001b[0m \u001b[0mldru\u001b[0m\u001b[0;34m\u001b[0m\u001b[0m\n\u001b[1;32m     99\u001b[0m     '''\n\u001b[0;32m--> 100\u001b[0;31m     \u001b[0mmove\u001b[0m \u001b[0;34m=\u001b[0m \u001b[0mfind_best_move\u001b[0m\u001b[0;34m(\u001b[0m\u001b[0mm\u001b[0m\u001b[0;34m)\u001b[0m\u001b[0;34m\u001b[0m\u001b[0m\n\u001b[0m\u001b[1;32m    101\u001b[0m     \u001b[0;32mreturn\u001b[0m \u001b[0;34m[\u001b[0m\u001b[0;36m3\u001b[0m\u001b[0;34m,\u001b[0m \u001b[0;36m1\u001b[0m\u001b[0;34m,\u001b[0m \u001b[0;36m0\u001b[0m\u001b[0;34m,\u001b[0m \u001b[0;36m2\u001b[0m\u001b[0;34m]\u001b[0m\u001b[0;34m[\u001b[0m\u001b[0mmove\u001b[0m\u001b[0;34m]\u001b[0m\u001b[0;34m\u001b[0m\u001b[0m\n\u001b[1;32m    102\u001b[0m \u001b[0;34m\u001b[0m\u001b[0m\n",
      "\u001b[0;32m~/2048-api/game2048/expectimax/_ext.py\u001b[0m in \u001b[0;36mfind_best_move\u001b[0;34m(m)\u001b[0m\n\u001b[1;32m     81\u001b[0m \u001b[0;34m\u001b[0m\u001b[0m\n\u001b[1;32m     82\u001b[0m         scores = pool.map(score_toplevel_move, [\n\u001b[0;32m---> 83\u001b[0;31m                           (board, move) for move in range(4)])\n\u001b[0m\u001b[1;32m     84\u001b[0m         \u001b[0mbestmove\u001b[0m\u001b[0;34m,\u001b[0m \u001b[0mbestscore\u001b[0m \u001b[0;34m=\u001b[0m \u001b[0mmax\u001b[0m\u001b[0;34m(\u001b[0m\u001b[0menumerate\u001b[0m\u001b[0;34m(\u001b[0m\u001b[0mscores\u001b[0m\u001b[0;34m)\u001b[0m\u001b[0;34m,\u001b[0m \u001b[0mkey\u001b[0m\u001b[0;34m=\u001b[0m\u001b[0;32mlambda\u001b[0m \u001b[0mx\u001b[0m\u001b[0;34m:\u001b[0m \u001b[0mx\u001b[0m\u001b[0;34m[\u001b[0m\u001b[0;36m1\u001b[0m\u001b[0;34m]\u001b[0m\u001b[0;34m)\u001b[0m\u001b[0;34m\u001b[0m\u001b[0m\n\u001b[1;32m     85\u001b[0m         \u001b[0;32mif\u001b[0m \u001b[0mbestscore\u001b[0m \u001b[0;34m==\u001b[0m \u001b[0;36m0\u001b[0m\u001b[0;34m:\u001b[0m\u001b[0;34m\u001b[0m\u001b[0m\n",
      "\u001b[0;32m~/.conda/envs/ml/lib/python3.7/multiprocessing/pool.py\u001b[0m in \u001b[0;36mmap\u001b[0;34m(self, func, iterable, chunksize)\u001b[0m\n\u001b[1;32m    266\u001b[0m         \u001b[0;32min\u001b[0m \u001b[0ma\u001b[0m \u001b[0mlist\u001b[0m \u001b[0mthat\u001b[0m \u001b[0;32mis\u001b[0m \u001b[0mreturned\u001b[0m\u001b[0;34m.\u001b[0m\u001b[0;34m\u001b[0m\u001b[0m\n\u001b[1;32m    267\u001b[0m         '''\n\u001b[0;32m--> 268\u001b[0;31m         \u001b[0;32mreturn\u001b[0m \u001b[0mself\u001b[0m\u001b[0;34m.\u001b[0m\u001b[0m_map_async\u001b[0m\u001b[0;34m(\u001b[0m\u001b[0mfunc\u001b[0m\u001b[0;34m,\u001b[0m \u001b[0miterable\u001b[0m\u001b[0;34m,\u001b[0m \u001b[0mmapstar\u001b[0m\u001b[0;34m,\u001b[0m \u001b[0mchunksize\u001b[0m\u001b[0;34m)\u001b[0m\u001b[0;34m.\u001b[0m\u001b[0mget\u001b[0m\u001b[0;34m(\u001b[0m\u001b[0;34m)\u001b[0m\u001b[0;34m\u001b[0m\u001b[0m\n\u001b[0m\u001b[1;32m    269\u001b[0m \u001b[0;34m\u001b[0m\u001b[0m\n\u001b[1;32m    270\u001b[0m     \u001b[0;32mdef\u001b[0m \u001b[0mstarmap\u001b[0m\u001b[0;34m(\u001b[0m\u001b[0mself\u001b[0m\u001b[0;34m,\u001b[0m \u001b[0mfunc\u001b[0m\u001b[0;34m,\u001b[0m \u001b[0miterable\u001b[0m\u001b[0;34m,\u001b[0m \u001b[0mchunksize\u001b[0m\u001b[0;34m=\u001b[0m\u001b[0;32mNone\u001b[0m\u001b[0;34m)\u001b[0m\u001b[0;34m:\u001b[0m\u001b[0;34m\u001b[0m\u001b[0m\n",
      "\u001b[0;32m~/.conda/envs/ml/lib/python3.7/multiprocessing/pool.py\u001b[0m in \u001b[0;36mget\u001b[0;34m(self, timeout)\u001b[0m\n\u001b[1;32m    649\u001b[0m \u001b[0;34m\u001b[0m\u001b[0m\n\u001b[1;32m    650\u001b[0m     \u001b[0;32mdef\u001b[0m \u001b[0mget\u001b[0m\u001b[0;34m(\u001b[0m\u001b[0mself\u001b[0m\u001b[0;34m,\u001b[0m \u001b[0mtimeout\u001b[0m\u001b[0;34m=\u001b[0m\u001b[0;32mNone\u001b[0m\u001b[0;34m)\u001b[0m\u001b[0;34m:\u001b[0m\u001b[0;34m\u001b[0m\u001b[0m\n\u001b[0;32m--> 651\u001b[0;31m         \u001b[0mself\u001b[0m\u001b[0;34m.\u001b[0m\u001b[0mwait\u001b[0m\u001b[0;34m(\u001b[0m\u001b[0mtimeout\u001b[0m\u001b[0;34m)\u001b[0m\u001b[0;34m\u001b[0m\u001b[0m\n\u001b[0m\u001b[1;32m    652\u001b[0m         \u001b[0;32mif\u001b[0m \u001b[0;32mnot\u001b[0m \u001b[0mself\u001b[0m\u001b[0;34m.\u001b[0m\u001b[0mready\u001b[0m\u001b[0;34m(\u001b[0m\u001b[0;34m)\u001b[0m\u001b[0;34m:\u001b[0m\u001b[0;34m\u001b[0m\u001b[0m\n\u001b[1;32m    653\u001b[0m             \u001b[0;32mraise\u001b[0m \u001b[0mTimeoutError\u001b[0m\u001b[0;34m\u001b[0m\u001b[0m\n",
      "\u001b[0;32m~/.conda/envs/ml/lib/python3.7/multiprocessing/pool.py\u001b[0m in \u001b[0;36mwait\u001b[0;34m(self, timeout)\u001b[0m\n\u001b[1;32m    646\u001b[0m \u001b[0;34m\u001b[0m\u001b[0m\n\u001b[1;32m    647\u001b[0m     \u001b[0;32mdef\u001b[0m \u001b[0mwait\u001b[0m\u001b[0;34m(\u001b[0m\u001b[0mself\u001b[0m\u001b[0;34m,\u001b[0m \u001b[0mtimeout\u001b[0m\u001b[0;34m=\u001b[0m\u001b[0;32mNone\u001b[0m\u001b[0;34m)\u001b[0m\u001b[0;34m:\u001b[0m\u001b[0;34m\u001b[0m\u001b[0m\n\u001b[0;32m--> 648\u001b[0;31m         \u001b[0mself\u001b[0m\u001b[0;34m.\u001b[0m\u001b[0m_event\u001b[0m\u001b[0;34m.\u001b[0m\u001b[0mwait\u001b[0m\u001b[0;34m(\u001b[0m\u001b[0mtimeout\u001b[0m\u001b[0;34m)\u001b[0m\u001b[0;34m\u001b[0m\u001b[0m\n\u001b[0m\u001b[1;32m    649\u001b[0m \u001b[0;34m\u001b[0m\u001b[0m\n\u001b[1;32m    650\u001b[0m     \u001b[0;32mdef\u001b[0m \u001b[0mget\u001b[0m\u001b[0;34m(\u001b[0m\u001b[0mself\u001b[0m\u001b[0;34m,\u001b[0m \u001b[0mtimeout\u001b[0m\u001b[0;34m=\u001b[0m\u001b[0;32mNone\u001b[0m\u001b[0;34m)\u001b[0m\u001b[0;34m:\u001b[0m\u001b[0;34m\u001b[0m\u001b[0m\n",
      "\u001b[0;32m~/.conda/envs/ml/lib/python3.7/threading.py\u001b[0m in \u001b[0;36mwait\u001b[0;34m(self, timeout)\u001b[0m\n\u001b[1;32m    550\u001b[0m             \u001b[0msignaled\u001b[0m \u001b[0;34m=\u001b[0m \u001b[0mself\u001b[0m\u001b[0;34m.\u001b[0m\u001b[0m_flag\u001b[0m\u001b[0;34m\u001b[0m\u001b[0m\n\u001b[1;32m    551\u001b[0m             \u001b[0;32mif\u001b[0m \u001b[0;32mnot\u001b[0m \u001b[0msignaled\u001b[0m\u001b[0;34m:\u001b[0m\u001b[0;34m\u001b[0m\u001b[0m\n\u001b[0;32m--> 552\u001b[0;31m                 \u001b[0msignaled\u001b[0m \u001b[0;34m=\u001b[0m \u001b[0mself\u001b[0m\u001b[0;34m.\u001b[0m\u001b[0m_cond\u001b[0m\u001b[0;34m.\u001b[0m\u001b[0mwait\u001b[0m\u001b[0;34m(\u001b[0m\u001b[0mtimeout\u001b[0m\u001b[0;34m)\u001b[0m\u001b[0;34m\u001b[0m\u001b[0m\n\u001b[0m\u001b[1;32m    553\u001b[0m             \u001b[0;32mreturn\u001b[0m \u001b[0msignaled\u001b[0m\u001b[0;34m\u001b[0m\u001b[0m\n\u001b[1;32m    554\u001b[0m \u001b[0;34m\u001b[0m\u001b[0m\n",
      "\u001b[0;32m~/.conda/envs/ml/lib/python3.7/threading.py\u001b[0m in \u001b[0;36mwait\u001b[0;34m(self, timeout)\u001b[0m\n\u001b[1;32m    294\u001b[0m         \u001b[0;32mtry\u001b[0m\u001b[0;34m:\u001b[0m    \u001b[0;31m# restore state no matter what (e.g., KeyboardInterrupt)\u001b[0m\u001b[0;34m\u001b[0m\u001b[0m\n\u001b[1;32m    295\u001b[0m             \u001b[0;32mif\u001b[0m \u001b[0mtimeout\u001b[0m \u001b[0;32mis\u001b[0m \u001b[0;32mNone\u001b[0m\u001b[0;34m:\u001b[0m\u001b[0;34m\u001b[0m\u001b[0m\n\u001b[0;32m--> 296\u001b[0;31m                 \u001b[0mwaiter\u001b[0m\u001b[0;34m.\u001b[0m\u001b[0macquire\u001b[0m\u001b[0;34m(\u001b[0m\u001b[0;34m)\u001b[0m\u001b[0;34m\u001b[0m\u001b[0m\n\u001b[0m\u001b[1;32m    297\u001b[0m                 \u001b[0mgotit\u001b[0m \u001b[0;34m=\u001b[0m \u001b[0;32mTrue\u001b[0m\u001b[0;34m\u001b[0m\u001b[0m\n\u001b[1;32m    298\u001b[0m             \u001b[0;32melse\u001b[0m\u001b[0;34m:\u001b[0m\u001b[0;34m\u001b[0m\u001b[0m\n",
      "\u001b[0;31mKeyboardInterrupt\u001b[0m: "
     ]
    }
   ],
   "source": [
    "net = DQN()\n",
    "\n",
    "for epoch in range(400):\n",
    "    game = Game(4, score_to_win=2048, random=False)\n",
    "    display2.display(game)\n",
    "    consultant = ExpectiMaxAgent(game, display=display2)\n",
    "    while True:\n",
    "        s = consultant.game.board\n",
    "        s = s.reshape((1,-1))\n",
    "        r1 = consultant.game.score\n",
    "        a = consultant.step()\n",
    "        consultant.game.move(a)\n",
    "        s_ = np.array(consultant.game.board).reshape((1,-1))\n",
    "\n",
    "        r = 1 if consultant.game.score > r1 else 0\n",
    "        index = net.memorycnt % net.capacity\n",
    "        net.states[index, :] = s[0]\n",
    "        net.actions[index] = a\n",
    "        net.rewards[index] = r\n",
    "        net.stateps[index, :] = s_[0]\n",
    "        net.memorycnt += 1\n",
    "\n",
    "        if net.memorycnt % net.capacity == 0:\n",
    "            net.learn()\n",
    "        \n",
    "        if consultant.game.end:\n",
    "            break\n",
    "\n",
    "net.save()\n",
    "print(\"finish {}\".format(g.score))"
   ]
  },
  {
   "cell_type": "code",
   "execution_count": null,
   "metadata": {},
   "outputs": [],
   "source": []
  }
 ],
 "metadata": {
  "language_info": {
   "codemirror_mode": {
    "name": "ipython",
    "version": 3
   },
   "file_extension": ".py",
   "mimetype": "text/x-python",
   "name": "python",
   "nbconvert_exporter": "python",
   "pygments_lexer": "ipython3",
   "version": "3.7.0-final"
  },
  "orig_nbformat": 2,
  "kernelspec": {
   "name": "python37064bitmlcondade25dc067b784cd2858f6d5c7e8f3aca",
   "display_name": "Python 3.7.0 64-bit ('ml': conda)"
  }
 },
 "nbformat": 4,
 "nbformat_minor": 2
}